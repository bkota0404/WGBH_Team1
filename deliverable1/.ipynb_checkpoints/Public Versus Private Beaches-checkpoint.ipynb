{
 "cells": [
  {
   "cell_type": "code",
   "execution_count": 13,
   "id": "a0d074b4",
   "metadata": {},
   "outputs": [
    {
     "data": {
      "text/html": [
       "<div>\n",
       "<style scoped>\n",
       "    .dataframe tbody tr th:only-of-type {\n",
       "        vertical-align: middle;\n",
       "    }\n",
       "\n",
       "    .dataframe tbody tr th {\n",
       "        vertical-align: top;\n",
       "    }\n",
       "\n",
       "    .dataframe thead th {\n",
       "        text-align: right;\n",
       "    }\n",
       "</style>\n",
       "<table border=\"1\" class=\"dataframe\">\n",
       "  <thead>\n",
       "    <tr style=\"text-align: right;\">\n",
       "      <th></th>\n",
       "      <th>Beach Ownership/Beach Accessibility</th>\n",
       "      <th>BeachLength (Mi)</th>\n",
       "    </tr>\n",
       "  </thead>\n",
       "  <tbody>\n",
       "    <tr>\n",
       "      <th>0</th>\n",
       "      <td>Public/Public</td>\n",
       "      <td>0.085</td>\n",
       "    </tr>\n",
       "    <tr>\n",
       "      <th>1</th>\n",
       "      <td>Public/Public</td>\n",
       "      <td>0.057</td>\n",
       "    </tr>\n",
       "    <tr>\n",
       "      <th>2</th>\n",
       "      <td>Public/Public</td>\n",
       "      <td>0.022</td>\n",
       "    </tr>\n",
       "    <tr>\n",
       "      <th>3</th>\n",
       "      <td>Public/Public</td>\n",
       "      <td>0.232</td>\n",
       "    </tr>\n",
       "    <tr>\n",
       "      <th>4</th>\n",
       "      <td>/</td>\n",
       "      <td>0.114</td>\n",
       "    </tr>\n",
       "  </tbody>\n",
       "</table>\n",
       "</div>"
      ],
      "text/plain": [
       "  Beach Ownership/Beach Accessibility   BeachLength (Mi)\n",
       "0                        Public/Public             0.085\n",
       "1                        Public/Public             0.057\n",
       "2                        Public/Public             0.022\n",
       "3                        Public/Public             0.232\n",
       "4                                    /             0.114"
      ]
     },
     "execution_count": 13,
     "metadata": {},
     "output_type": "execute_result"
    }
   ],
   "source": [
    "import pandas as pd\n",
    "import numpy as np\n",
    "import matplotlib.pyplot as plt\n",
    "\n",
    "filename = \"Beach_Attributes.csv\"\n",
    "\n",
    "# Columns we are intrested in the dataset\n",
    "fields = ['BeachLength (Mi)', 'Beach Ownership/Beach Accessibility ']\n",
    "\n",
    "# Reads in the csv as a dataframe\n",
    "df = pd.read_csv(filename, usecols = fields)\n",
    "\n",
    "# Remove incomplete entries\n",
    "df = df.dropna(axis=0, how='any')\n",
    "\n",
    "df.head()\n"
   ]
  },
  {
   "cell_type": "code",
   "execution_count": 16,
   "id": "6660462c",
   "metadata": {},
   "outputs": [
    {
     "data": {
      "image/png": "[encoded data removed]",
      "text/plain": [
       "<Figure size 432x288 with 1 Axes>"
      ]
     },
     "metadata": {
      "needs_background": "light"
     },
     "output_type": "display_data"
    }
   ],
   "source": [
    "# Make dataframe of beaches with public access (regardless of private or public ownership)\n",
    "public = df[df['Beach Ownership/Beach Accessibility '] == 'Public/Public']\n",
    "public = public.append(df[df['Beach Ownership/Beach Accessibility '] == 'Private/Public'])\n",
    "\n",
    "public.head()\n",
    "\n",
    "# Make dataframe of beaches with public access\n",
    "private = df[df['Beach Ownership/Beach Accessibility '].str.contains('Private/Private')]\n",
    "\n",
    "private.head()\n",
    "\n",
    "# Calculate lengths\n",
    "publicLength = public['BeachLength (Mi)'].sum()\n",
    "privateLength = private['BeachLength (Mi)'].sum()\n",
    "\n",
    "# Visualize lengths\n",
    "fig = plt.figure()\n",
    "ax = fig.add_axes([0,0,1,1])\n",
    "ax.bar(['Public', 'Private'], [publicLength, privateLength])\n",
    "plt.show()"
   ]
  }
 ],
 "metadata": {
  "kernelspec": {
   "display_name": "Python 3 (ipykernel)",
   "language": "python",
   "name": "python3"
  },
  "language_info": {
   "codemirror_mode": {
    "name": "ipython",
    "version": 3
   },
   "file_extension": ".py",
   "mimetype": "text/x-python",
   "name": "python",
   "nbconvert_exporter": "python",
   "pygments_lexer": "ipython3",
   "version": "3.9.7"
  }
 },
 "nbformat": 4,
 "nbformat_minor": 5
}
