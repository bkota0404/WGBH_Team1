{
 "cells": [
  {
   "cell_type": "markdown",
   "metadata": {},
   "source": [
    "# Scrapping of dataset 2 into csv file and sample code to demonstrate the merging of both datasets"
   ]
  },
  {
   "cell_type": "markdown",
   "metadata": {},
   "source": [
    "### The data scrapped from EPA site provides information on beaches, beach location, length and Beach Access information"
   ]
  },
  {
   "cell_type": "code",
   "execution_count": 1,
   "metadata": {},
   "outputs": [
    {
     "data": {
      "text/html": [
       "<div>\n",
       "<style scoped>\n",
       "    .dataframe tbody tr th:only-of-type {\n",
       "        vertical-align: middle;\n",
       "    }\n",
       "\n",
       "    .dataframe tbody tr th {\n",
       "        vertical-align: top;\n",
       "    }\n",
       "\n",
       "    .dataframe thead th {\n",
       "        text-align: right;\n",
       "    }\n",
       "</style>\n",
       "<table border=\"1\" class=\"dataframe\">\n",
       "  <thead>\n",
       "    <tr style=\"text-align: right;\">\n",
       "      <th></th>\n",
       "      <th>Beach Name</th>\n",
       "      <th>Beach Access</th>\n",
       "      <th>BeachLength (Mi)</th>\n",
       "      <th>Start Latitude</th>\n",
       "      <th>Start Longitude</th>\n",
       "      <th>End Latitude</th>\n",
       "      <th>End Longitude</th>\n",
       "    </tr>\n",
       "  </thead>\n",
       "  <tbody>\n",
       "    <tr>\n",
       "      <th>0</th>\n",
       "      <td>333 Commercial Street</td>\n",
       "      <td>Public</td>\n",
       "      <td>0.085</td>\n",
       "      <td>42.051360</td>\n",
       "      <td>-70.184980</td>\n",
       "      <td>42.052280</td>\n",
       "      <td>-70.184000</td>\n",
       "    </tr>\n",
       "    <tr>\n",
       "      <th>1</th>\n",
       "      <td>451 Commercial Street</td>\n",
       "      <td>Public</td>\n",
       "      <td>0.057</td>\n",
       "      <td>42.055200</td>\n",
       "      <td>-70.179860</td>\n",
       "      <td>42.055730</td>\n",
       "      <td>-70.179010</td>\n",
       "    </tr>\n",
       "    <tr>\n",
       "      <th>2</th>\n",
       "      <td>593 Commercial Street</td>\n",
       "      <td>Public</td>\n",
       "      <td>0.022</td>\n",
       "      <td>42.059340</td>\n",
       "      <td>-70.170730</td>\n",
       "      <td>42.059460</td>\n",
       "      <td>-70.170330</td>\n",
       "    </tr>\n",
       "    <tr>\n",
       "      <th>3</th>\n",
       "      <td>637 Commercial Street</td>\n",
       "      <td>Public</td>\n",
       "      <td>0.232</td>\n",
       "      <td>42.059930</td>\n",
       "      <td>-70.168540</td>\n",
       "      <td>42.060880</td>\n",
       "      <td>-70.164200</td>\n",
       "    </tr>\n",
       "    <tr>\n",
       "      <th>4</th>\n",
       "      <td>915 Craigville Road</td>\n",
       "      <td>NaN</td>\n",
       "      <td>0.114</td>\n",
       "      <td>41.635864</td>\n",
       "      <td>-70.335649</td>\n",
       "      <td>41.636289</td>\n",
       "      <td>-70.337836</td>\n",
       "    </tr>\n",
       "  </tbody>\n",
       "</table>\n",
       "</div>"
      ],
      "text/plain": [
       "              Beach Name Beach Access  BeachLength (Mi)  Start Latitude  \\\n",
       "0  333 Commercial Street       Public             0.085       42.051360   \n",
       "1  451 Commercial Street       Public             0.057       42.055200   \n",
       "2  593 Commercial Street       Public             0.022       42.059340   \n",
       "3  637 Commercial Street       Public             0.232       42.059930   \n",
       "4    915 Craigville Road          NaN             0.114       41.635864   \n",
       "\n",
       "   Start Longitude  End Latitude  End Longitude  \n",
       "0       -70.184980     42.052280     -70.184000  \n",
       "1       -70.179860     42.055730     -70.179010  \n",
       "2       -70.170730     42.059460     -70.170330  \n",
       "3       -70.168540     42.060880     -70.164200  \n",
       "4       -70.335649     41.636289     -70.337836  "
      ]
     },
     "execution_count": 1,
     "metadata": {},
     "output_type": "execute_result"
    }
   ],
   "source": [
    "import pandas as pd\n",
    "import numpy as np\n",
    "\n",
    "filename = \"Beach_Attributes.csv\"\n",
    "\n",
    "# Columns we are intrested in the dataset\n",
    "fields = ['Beach Name', 'BeachLength (Mi)','Beach Access', 'Start Latitude', 'End Latitude', 'Start Longitude', 'End Longitude']\n",
    "\n",
    "# Reads in the csv as a dataframe\n",
    "df = pd.read_csv(filename, usecols = fields)\n",
    "\n",
    "df.head()"
   ]
  },
  {
   "cell_type": "markdown",
   "metadata": {},
   "source": [
    "#### The above information is used to provide a comprehensive view of beach access"
   ]
  },
  {
   "cell_type": "code",
   "execution_count": 2,
   "metadata": {},
   "outputs": [
    {
     "data": {
      "text/plain": [
       "Beach Access\n",
       "Private    127\n",
       "Public     557\n",
       "dtype: int64"
      ]
     },
     "execution_count": 2,
     "metadata": {},
     "output_type": "execute_result"
    }
   ],
   "source": [
    "df.groupby('Beach Access').size()"
   ]
  },
  {
   "cell_type": "code",
   "execution_count": 3,
   "metadata": {},
   "outputs": [],
   "source": [
    "total_num_beaches = df.shape[0]\n",
    "private_beaches = len(df[df['Beach Access']=='Private'])\n",
    "public_beaches = len(df[df['Beach Access']=='Public'])\n",
    "beaches_not_avail = total_num_beaches - private_beaches - public_beaches"
   ]
  },
  {
   "cell_type": "markdown",
   "metadata": {},
   "source": [
    "### Pie chart to demonstrate the beach access information from the dataset"
   ]
  },
  {
   "cell_type": "code",
   "execution_count": 4,
   "metadata": {},
   "outputs": [
    {
     "data": {
      "image/png": "[encoded data removed]",
      "text/plain": [
       "<Figure size 432x288 with 1 Axes>"
      ]
     },
     "metadata": {},
     "output_type": "display_data"
    }
   ],
   "source": [
    "import matplotlib.pyplot as plt\n",
    "\n",
    "labels = 'Private', 'Public', 'Info Not Available'\n",
    "sizes = [private_beaches*100/total_num_beaches, public_beaches*100/total_num_beaches, beaches_not_avail*100/total_num_beaches]\n",
    "explode = (0,0,1)  # exploding not available information\n",
    "\n",
    "fig1, ax1 = plt.subplots()\n",
    "ax1.pie(sizes, explode=explode, labels=labels, autopct='%1.1f%%',\n",
    "        shadow=True, startangle=90)\n",
    "ax1.axis('equal') \n",
    "plt.title(\"Beach Access Information\")\n",
    "plt.show()"
   ]
  },
  {
   "cell_type": "markdown",
   "metadata": {},
   "source": [
    "#### From the above pie chart, it is evident that beach access information is not available for 23.8% of the beaches. Further scrapping of different data sets is required to fill this gap.\n",
    "#### We can also see that 62% of beaches are available for public access but this is just the intial analysis based on one dataset."
   ]
  },
  {
   "cell_type": "code",
   "execution_count": 6,
   "metadata": {},
   "outputs": [],
   "source": [
    "private_beach_len = df[df['Beach Access']=='Private']['BeachLength (Mi)'].sum()\n",
    "public_beach_len = df[df['Beach Access']=='Public']['BeachLength (Mi)'].sum()"
   ]
  },
  {
   "cell_type": "code",
   "execution_count": 8,
   "metadata": {},
   "outputs": [
    {
     "data": {
      "image/png": "[encoded data removed]",
      "text/plain": [
       "<Figure size 432x288 with 1 Axes>"
      ]
     },
     "metadata": {
      "needs_background": "light"
     },
     "output_type": "display_data"
    }
   ],
   "source": [
    "#display length of the beaches access to public/private\n",
    "fig = plt.figure()\n",
    "ax = fig.add_axes([0,0,1,1])\n",
    "ax.bar(['Public', 'Private'], [public_beach_len, private_beach_len], color = ['blue', 'green'])\n",
    "plt.title(\"MA coastline length access to public/private\")\n",
    "plt.show()"
   ]
  },
  {
   "cell_type": "markdown",
   "metadata": {},
   "source": [
    "# This is a test showcasing how the two datasets will be merged"
   ]
  },
  {
   "cell_type": "code",
   "execution_count": 7,
   "metadata": {},
   "outputs": [
    {
     "data": {
      "text/html": [
       "<div>\n",
       "<style scoped>\n",
       "    .dataframe tbody tr th:only-of-type {\n",
       "        vertical-align: middle;\n",
       "    }\n",
       "\n",
       "    .dataframe tbody tr th {\n",
       "        vertical-align: top;\n",
       "    }\n",
       "\n",
       "    .dataframe thead th {\n",
       "        text-align: right;\n",
       "    }\n",
       "</style>\n",
       "<table border=\"1\" class=\"dataframe\">\n",
       "  <thead>\n",
       "    <tr style=\"text-align: right;\">\n",
       "      <th></th>\n",
       "      <th>Beach Name</th>\n",
       "      <th>BeachLength (Mi)</th>\n",
       "      <th>Start Latitude</th>\n",
       "      <th>Start Longitude</th>\n",
       "      <th>End Latitude</th>\n",
       "      <th>End Longitude</th>\n",
       "    </tr>\n",
       "  </thead>\n",
       "  <tbody>\n",
       "    <tr>\n",
       "      <th>0</th>\n",
       "      <td>333 Commercial Street</td>\n",
       "      <td>0.085</td>\n",
       "      <td>42.051360</td>\n",
       "      <td>-70.184980</td>\n",
       "      <td>42.052280</td>\n",
       "      <td>-70.184000</td>\n",
       "    </tr>\n",
       "    <tr>\n",
       "      <th>1</th>\n",
       "      <td>451 Commercial Street</td>\n",
       "      <td>0.057</td>\n",
       "      <td>42.055200</td>\n",
       "      <td>-70.179860</td>\n",
       "      <td>42.055730</td>\n",
       "      <td>-70.179010</td>\n",
       "    </tr>\n",
       "    <tr>\n",
       "      <th>2</th>\n",
       "      <td>593 Commercial Street</td>\n",
       "      <td>0.022</td>\n",
       "      <td>42.059340</td>\n",
       "      <td>-70.170730</td>\n",
       "      <td>42.059460</td>\n",
       "      <td>-70.170330</td>\n",
       "    </tr>\n",
       "    <tr>\n",
       "      <th>3</th>\n",
       "      <td>637 Commercial Street</td>\n",
       "      <td>0.232</td>\n",
       "      <td>42.059930</td>\n",
       "      <td>-70.168540</td>\n",
       "      <td>42.060880</td>\n",
       "      <td>-70.164200</td>\n",
       "    </tr>\n",
       "    <tr>\n",
       "      <th>4</th>\n",
       "      <td>915 Craigville Road</td>\n",
       "      <td>0.114</td>\n",
       "      <td>41.635864</td>\n",
       "      <td>-70.335649</td>\n",
       "      <td>41.636289</td>\n",
       "      <td>-70.337836</td>\n",
       "    </tr>\n",
       "  </tbody>\n",
       "</table>\n",
       "</div>"
      ],
      "text/plain": [
       "              Beach Name  BeachLength (Mi)  Start Latitude  Start Longitude  \\\n",
       "0  333 Commercial Street             0.085       42.051360       -70.184980   \n",
       "1  451 Commercial Street             0.057       42.055200       -70.179860   \n",
       "2  593 Commercial Street             0.022       42.059340       -70.170730   \n",
       "3  637 Commercial Street             0.232       42.059930       -70.168540   \n",
       "4    915 Craigville Road             0.114       41.635864       -70.335649   \n",
       "\n",
       "   End Latitude  End Longitude  \n",
       "0     42.052280     -70.184000  \n",
       "1     42.055730     -70.179010  \n",
       "2     42.059460     -70.170330  \n",
       "3     42.060880     -70.164200  \n",
       "4     41.636289     -70.337836  "
      ]
     },
     "metadata": {},
     "output_type": "display_data"
    },
    {
     "data": {
      "text/html": [
       "<div>\n",
       "<style scoped>\n",
       "    .dataframe tbody tr th:only-of-type {\n",
       "        vertical-align: middle;\n",
       "    }\n",
       "\n",
       "    .dataframe tbody tr th {\n",
       "        vertical-align: top;\n",
       "    }\n",
       "\n",
       "    .dataframe thead th {\n",
       "        text-align: right;\n",
       "    }\n",
       "</style>\n",
       "<table border=\"1\" class=\"dataframe\">\n",
       "  <thead>\n",
       "    <tr style=\"text-align: right;\">\n",
       "      <th></th>\n",
       "      <th>Beach Name</th>\n",
       "      <th>Accessibility</th>\n",
       "    </tr>\n",
       "  </thead>\n",
       "  <tbody>\n",
       "    <tr>\n",
       "      <th>0</th>\n",
       "      <td>451 Commercial Street</td>\n",
       "      <td>Private</td>\n",
       "    </tr>\n",
       "    <tr>\n",
       "      <th>1</th>\n",
       "      <td>915 Craigville Road</td>\n",
       "      <td>Public</td>\n",
       "    </tr>\n",
       "    <tr>\n",
       "      <th>2</th>\n",
       "      <td>637 Commercial Street</td>\n",
       "      <td>HomeOwners</td>\n",
       "    </tr>\n",
       "    <tr>\n",
       "      <th>3</th>\n",
       "      <td>593 Commercial Street</td>\n",
       "      <td>Government</td>\n",
       "    </tr>\n",
       "    <tr>\n",
       "      <th>4</th>\n",
       "      <td>333 Commercial Street</td>\n",
       "      <td>ETC</td>\n",
       "    </tr>\n",
       "  </tbody>\n",
       "</table>\n",
       "</div>"
      ],
      "text/plain": [
       "              Beach Name Accessibility\n",
       "0  451 Commercial Street       Private\n",
       "1    915 Craigville Road        Public\n",
       "2  637 Commercial Street    HomeOwners\n",
       "3  593 Commercial Street    Government\n",
       "4  333 Commercial Street           ETC"
      ]
     },
     "metadata": {},
     "output_type": "display_data"
    },
    {
     "data": {
      "text/html": [
       "<div>\n",
       "<style scoped>\n",
       "    .dataframe tbody tr th:only-of-type {\n",
       "        vertical-align: middle;\n",
       "    }\n",
       "\n",
       "    .dataframe tbody tr th {\n",
       "        vertical-align: top;\n",
       "    }\n",
       "\n",
       "    .dataframe thead th {\n",
       "        text-align: right;\n",
       "    }\n",
       "</style>\n",
       "<table border=\"1\" class=\"dataframe\">\n",
       "  <thead>\n",
       "    <tr style=\"text-align: right;\">\n",
       "      <th></th>\n",
       "      <th>Beach Name</th>\n",
       "      <th>BeachLength (Mi)</th>\n",
       "      <th>Start Latitude</th>\n",
       "      <th>Start Longitude</th>\n",
       "      <th>End Latitude</th>\n",
       "      <th>End Longitude</th>\n",
       "      <th>Accessibility</th>\n",
       "    </tr>\n",
       "  </thead>\n",
       "  <tbody>\n",
       "    <tr>\n",
       "      <th>0</th>\n",
       "      <td>333 Commercial Street</td>\n",
       "      <td>0.085</td>\n",
       "      <td>42.051360</td>\n",
       "      <td>-70.184980</td>\n",
       "      <td>42.052280</td>\n",
       "      <td>-70.184000</td>\n",
       "      <td>ETC</td>\n",
       "    </tr>\n",
       "    <tr>\n",
       "      <th>1</th>\n",
       "      <td>451 Commercial Street</td>\n",
       "      <td>0.057</td>\n",
       "      <td>42.055200</td>\n",
       "      <td>-70.179860</td>\n",
       "      <td>42.055730</td>\n",
       "      <td>-70.179010</td>\n",
       "      <td>Private</td>\n",
       "    </tr>\n",
       "    <tr>\n",
       "      <th>2</th>\n",
       "      <td>593 Commercial Street</td>\n",
       "      <td>0.022</td>\n",
       "      <td>42.059340</td>\n",
       "      <td>-70.170730</td>\n",
       "      <td>42.059460</td>\n",
       "      <td>-70.170330</td>\n",
       "      <td>Government</td>\n",
       "    </tr>\n",
       "    <tr>\n",
       "      <th>3</th>\n",
       "      <td>637 Commercial Street</td>\n",
       "      <td>0.232</td>\n",
       "      <td>42.059930</td>\n",
       "      <td>-70.168540</td>\n",
       "      <td>42.060880</td>\n",
       "      <td>-70.164200</td>\n",
       "      <td>HomeOwners</td>\n",
       "    </tr>\n",
       "    <tr>\n",
       "      <th>4</th>\n",
       "      <td>915 Craigville Road</td>\n",
       "      <td>0.114</td>\n",
       "      <td>41.635864</td>\n",
       "      <td>-70.335649</td>\n",
       "      <td>41.636289</td>\n",
       "      <td>-70.337836</td>\n",
       "      <td>Public</td>\n",
       "    </tr>\n",
       "  </tbody>\n",
       "</table>\n",
       "</div>"
      ],
      "text/plain": [
       "              Beach Name  BeachLength (Mi)  Start Latitude  Start Longitude  \\\n",
       "0  333 Commercial Street             0.085       42.051360       -70.184980   \n",
       "1  451 Commercial Street             0.057       42.055200       -70.179860   \n",
       "2  593 Commercial Street             0.022       42.059340       -70.170730   \n",
       "3  637 Commercial Street             0.232       42.059930       -70.168540   \n",
       "4    915 Craigville Road             0.114       41.635864       -70.335649   \n",
       "\n",
       "   End Latitude  End Longitude Accessibility  \n",
       "0     42.052280     -70.184000           ETC  \n",
       "1     42.055730     -70.179010       Private  \n",
       "2     42.059460     -70.170330    Government  \n",
       "3     42.060880     -70.164200    HomeOwners  \n",
       "4     41.636289     -70.337836        Public  "
      ]
     },
     "metadata": {},
     "output_type": "display_data"
    }
   ],
   "source": [
    "# Takes the first 5 entries of the df to use as an example\n",
    "df_sample = df.head()\n",
    "display(df_sample)\n",
    "\n",
    "# reads in and displays an example of data scrapped from dataset 1\n",
    "filename_ex = \"Beach_Accessibility.csv\"\n",
    "df_ex = pd.read_csv(filename_ex)\n",
    "display(df_ex)\n",
    "\n",
    "# This will add a column to df with the accessibility scraped from dataset 1\n",
    "df_final = pd.merge(df_sample, df_ex, on = \"Beach Name\")\n",
    "display(df_final)\n"
   ]
  },
  {
   "cell_type": "code",
   "execution_count": null,
   "metadata": {},
   "outputs": [],
   "source": []
  }
 ],
 "metadata": {
  "kernelspec": {
   "display_name": "Python 3",
   "language": "python",
   "name": "python3"
  },
  "language_info": {
   "codemirror_mode": {
    "name": "ipython",
    "version": 3
   },
   "file_extension": ".py",
   "mimetype": "text/x-python",
   "name": "python",
   "nbconvert_exporter": "python",
   "pygments_lexer": "ipython3",
   "version": "3.8.8"
  }
 },
 "nbformat": 4,
 "nbformat_minor": 2
}
