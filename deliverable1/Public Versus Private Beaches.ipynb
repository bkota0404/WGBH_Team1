{
 "cells": [
  {
   "cell_type": "code",
   "execution_count": 22,
   "id": "5a2748f7",
   "metadata": {},
   "outputs": [
    {
     "data": {
      "image/png": "[encoded data removed]",
      "text/plain": [
       "<Figure size 432x288 with 1 Axes>"
      ]
     },
     "metadata": {
      "needs_background": "light"
     },
     "output_type": "display_data"
    },
    {
     "name": "stdout",
     "output_type": "stream",
     "text": [
      "Publicly Accessible Beach Length: 217.526 miles\n",
      "Private Accessible Beach Length: 18.065 miles\n"
     ]
    }
   ],
   "source": [
    "import pandas as pd\n",
    "import numpy as np\n",
    "import matplotlib.pyplot as plt\n",
    "\n",
    "filename = \"Beach_Attributes.csv\"\n",
    "\n",
    "# Columns we are intrested in the dataset\n",
    "fields = ['BeachLength (Mi)', 'Beach Ownership/Beach Accessibility ']\n",
    "\n",
    "# Reads in the csv as a dataframe\n",
    "df = pd.read_csv(filename, usecols = fields)\n",
    "\n",
    "# Remove incomplete entries\n",
    "df = df.dropna(axis=0, how='any')\n",
    "\n",
    "# Make dataframe of beaches with public access (regardless of private or public ownership)\n",
    "public = df[df['Beach Ownership/Beach Accessibility '] == 'Public/Public']\n",
    "public = public.append(df[df['Beach Ownership/Beach Accessibility '] == 'Private/Public'])\n",
    "\n",
    "public.head()\n",
    "\n",
    "# Make dataframe of beaches with public access\n",
    "private = df[df['Beach Ownership/Beach Accessibility '].str.contains('Private/Private')]\n",
    "\n",
    "private.head()\n",
    "\n",
    "# Calculate lengths\n",
    "publicLength = public['BeachLength (Mi)'].sum()\n",
    "privateLength = private['BeachLength (Mi)'].sum()\n",
    "\n",
    "# Visualize lengths\n",
    "fig = plt.figure()\n",
    "ax = fig.add_axes([0,0,1,1])\n",
    "ax.bar(['Public', 'Private'], [publicLength, privateLength], color = ['green', 'red'])\n",
    "plt.show()\n",
    "\n",
    "#Print Lengths\n",
    "print(\"Publicly Accessible Beach Length: \" + str(publicLength) + \" miles\")\n",
    "print(\"Private Accessible Beach Length: \" + str(privateLength) + \" miles\")"
   ]
  }
 ],
 "metadata": {
  "kernelspec": {
   "display_name": "Python 3 (ipykernel)",
   "language": "python",
   "name": "python3"
  },
  "language_info": {
   "codemirror_mode": {
    "name": "ipython",
    "version": 3
   },
   "file_extension": ".py",
   "mimetype": "text/x-python",
   "name": "python",
   "nbconvert_exporter": "python",
   "pygments_lexer": "ipython3",
   "version": "3.9.7"
  }
 },
 "nbformat": 4,
 "nbformat_minor": 5
}
