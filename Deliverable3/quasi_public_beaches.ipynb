{
 "cells": [
  {
   "cell_type": "code",
   "execution_count": 2,
   "metadata": {},
   "outputs": [
    {
     "data": {
      "text/html": [
       "<div>\n",
       "<style scoped>\n",
       "    .dataframe tbody tr th:only-of-type {\n",
       "        vertical-align: middle;\n",
       "    }\n",
       "\n",
       "    .dataframe tbody tr th {\n",
       "        vertical-align: top;\n",
       "    }\n",
       "\n",
       "    .dataframe thead th {\n",
       "        text-align: right;\n",
       "    }\n",
       "</style>\n",
       "<table border=\"1\" class=\"dataframe\">\n",
       "  <thead>\n",
       "    <tr style=\"text-align: right;\">\n",
       "      <th></th>\n",
       "      <th>Beach Name</th>\n",
       "      <th>County</th>\n",
       "      <th>BeachLength (Mi)</th>\n",
       "      <th>Ownership Type</th>\n",
       "      <th>Accessibility Type</th>\n",
       "      <th>Special Note</th>\n",
       "      <th>Link Note</th>\n",
       "    </tr>\n",
       "  </thead>\n",
       "  <tbody>\n",
       "    <tr>\n",
       "      <th>0</th>\n",
       "      <td>333 Commercial Street</td>\n",
       "      <td>BARNSTABLE</td>\n",
       "      <td>0.085</td>\n",
       "      <td>Municipal</td>\n",
       "      <td>2</td>\n",
       "      <td>NaN</td>\n",
       "      <td>NaN</td>\n",
       "    </tr>\n",
       "    <tr>\n",
       "      <th>1</th>\n",
       "      <td>451 Commercial Street</td>\n",
       "      <td>BARNSTABLE</td>\n",
       "      <td>0.057</td>\n",
       "      <td>Municipal</td>\n",
       "      <td>2</td>\n",
       "      <td>NaN</td>\n",
       "      <td>NaN</td>\n",
       "    </tr>\n",
       "    <tr>\n",
       "      <th>2</th>\n",
       "      <td>593 Commercial Street</td>\n",
       "      <td>BARNSTABLE</td>\n",
       "      <td>0.022</td>\n",
       "      <td>Municipal</td>\n",
       "      <td>2</td>\n",
       "      <td>NaN</td>\n",
       "      <td>NaN</td>\n",
       "    </tr>\n",
       "    <tr>\n",
       "      <th>3</th>\n",
       "      <td>637 Commercial Street</td>\n",
       "      <td>BARNSTABLE</td>\n",
       "      <td>0.232</td>\n",
       "      <td>Municipal</td>\n",
       "      <td>2</td>\n",
       "      <td>NaN</td>\n",
       "      <td>NaN</td>\n",
       "    </tr>\n",
       "    <tr>\n",
       "      <th>4</th>\n",
       "      <td>Andrew Harding Lane Beach</td>\n",
       "      <td>BARNSTABLE</td>\n",
       "      <td>0.046</td>\n",
       "      <td>Municipal</td>\n",
       "      <td>1</td>\n",
       "      <td>permit</td>\n",
       "      <td>NaN</td>\n",
       "    </tr>\n",
       "  </tbody>\n",
       "</table>\n",
       "</div>"
      ],
      "text/plain": [
       "                  Beach Name      County  BeachLength (Mi) Ownership Type  \\\n",
       "0      333 Commercial Street  BARNSTABLE             0.085      Municipal   \n",
       "1      451 Commercial Street  BARNSTABLE             0.057      Municipal   \n",
       "2      593 Commercial Street  BARNSTABLE             0.022      Municipal   \n",
       "3      637 Commercial Street  BARNSTABLE             0.232      Municipal   \n",
       "4  Andrew Harding Lane Beach  BARNSTABLE             0.046      Municipal   \n",
       "\n",
       "  Accessibility Type Special Note Link Note  \n",
       "0                  2          NaN       NaN  \n",
       "1                  2          NaN       NaN  \n",
       "2                  2          NaN       NaN  \n",
       "3                  2          NaN       NaN  \n",
       "4                  1       permit       NaN  "
      ]
     },
     "execution_count": 2,
     "metadata": {},
     "output_type": "execute_result"
    }
   ],
   "source": [
    "import pandas as pd\n",
    "import numpy as np\n",
    "\n",
    "filename = \"Beach_Attributes.csv\"\n",
    "\n",
    "# Columns we are intrested in the dataset\n",
    "fields = ['Beach Name','County','BeachLength (Mi)','Ownership Type','Accessibility Type','Special Note','Link Note']\n",
    "\n",
    "# Reads in the csv as a dataframe\n",
    "df = pd.read_csv(filename, usecols = fields)\n",
    "\n",
    "df.head()"
   ]
  },
  {
   "cell_type": "code",
   "execution_count": 4,
   "metadata": {},
   "outputs": [
    {
     "data": {
      "text/plain": [
       "Accessibility Type\n",
       "0                 175\n",
       "1                 211\n",
       "2                  31\n",
       "No link             1\n",
       "page not found      1\n",
       "dtype: int64"
      ]
     },
     "execution_count": 4,
     "metadata": {},
     "output_type": "execute_result"
    }
   ],
   "source": [
    "df.groupby('Accessibility Type').size()"
   ]
  },
  {
   "cell_type": "code",
   "execution_count": 5,
   "metadata": {},
   "outputs": [
    {
     "data": {
      "text/plain": [
       "Special Note\n",
       "homeowners         1\n",
       "parking           70\n",
       "parking            2\n",
       "parking permit     1\n",
       "permit            81\n",
       "permit/parking    47\n",
       "reservation        7\n",
       "dtype: int64"
      ]
     },
     "execution_count": 5,
     "metadata": {},
     "output_type": "execute_result"
    }
   ],
   "source": [
    "df.groupby('Special Note').size()"
   ]
  },
  {
   "cell_type": "code",
   "execution_count": null,
   "metadata": {},
   "outputs": [],
   "source": [
    "total_num_beaches = df.shape[0]\n",
    "permit_beaches = len(df[df['Special Note']=='permit'])\n",
    "parking_beaches = len(df[df['Special Note']=='parking'])\n",
    "permit_parking_beaches = len(df[df['Special Note']=='permit/parking'])"
   ]
  }
 ],
 "metadata": {
  "kernelspec": {
   "display_name": "Python 3",
   "language": "python",
   "name": "python3"
  },
  "language_info": {
   "codemirror_mode": {
    "name": "ipython",
    "version": 3
   },
   "file_extension": ".py",
   "mimetype": "text/x-python",
   "name": "python",
   "nbconvert_exporter": "python",
   "pygments_lexer": "ipython3",
   "version": "3.8.5"
  }
 },
 "nbformat": 4,
 "nbformat_minor": 4
}
