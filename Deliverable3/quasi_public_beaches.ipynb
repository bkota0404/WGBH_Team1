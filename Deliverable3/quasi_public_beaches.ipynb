{
 "cells": [
  {
   "cell_type": "code",
   "execution_count": null,
   "metadata": {},
   "outputs": [],
   "source": [
    "import pandas as pd\n",
    "import numpy as np\n",
    "\n",
    "filename = \"Beach_Attributes.csv\"\n",
    "\n",
    "# Columns we are intrested in the dataset\n",
    "fields = ['Beach Name', 'BeachLength (Mi)','Beach Access', 'Start Latitude', 'End Latitude', 'Start Longitude', 'End Longitude']\n",
    "\n",
    "# Reads in the csv as a dataframe\n",
    "df = pd.read_csv(filename, usecols = fields)\n",
    "\n",
    "df.head()"
   ]
  }
 ],
 "metadata": {
  "kernelspec": {
   "display_name": "Python 3",
   "language": "python",
   "name": "python3"
  },
  "language_info": {
   "codemirror_mode": {
    "name": "ipython",
    "version": 3
   },
   "file_extension": ".py",
   "mimetype": "text/x-python",
   "name": "python",
   "nbconvert_exporter": "python",
   "pygments_lexer": "ipython3",
   "version": "3.8.5"
  }
 },
 "nbformat": 4,
 "nbformat_minor": 4
}
