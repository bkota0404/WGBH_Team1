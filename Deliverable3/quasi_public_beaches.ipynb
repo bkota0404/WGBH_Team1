{
 "cells": [
  {
   "cell_type": "code",
   "execution_count": 2,
   "metadata": {},
   "outputs": [
    {
     "data": {
      "text/html": [
       "<div>\n",
       "<style scoped>\n",
       "    .dataframe tbody tr th:only-of-type {\n",
       "        vertical-align: middle;\n",
       "    }\n",
       "\n",
       "    .dataframe tbody tr th {\n",
       "        vertical-align: top;\n",
       "    }\n",
       "\n",
       "    .dataframe thead th {\n",
       "        text-align: right;\n",
       "    }\n",
       "</style>\n",
       "<table border=\"1\" class=\"dataframe\">\n",
       "  <thead>\n",
       "    <tr style=\"text-align: right;\">\n",
       "      <th></th>\n",
       "      <th>Beach Name</th>\n",
       "      <th>County</th>\n",
       "      <th>BeachLength (Mi)</th>\n",
       "      <th>Ownership Type</th>\n",
       "      <th>Accessibility Type</th>\n",
       "      <th>Special Note</th>\n",
       "      <th>Link Note</th>\n",
       "    </tr>\n",
       "  </thead>\n",
       "  <tbody>\n",
       "    <tr>\n",
       "      <th>0</th>\n",
       "      <td>333 Commercial Street</td>\n",
       "      <td>BARNSTABLE</td>\n",
       "      <td>0.085</td>\n",
       "      <td>Municipal</td>\n",
       "      <td>2</td>\n",
       "      <td>NaN</td>\n",
       "      <td>NaN</td>\n",
       "    </tr>\n",
       "    <tr>\n",
       "      <th>1</th>\n",
       "      <td>451 Commercial Street</td>\n",
       "      <td>BARNSTABLE</td>\n",
       "      <td>0.057</td>\n",
       "      <td>Municipal</td>\n",
       "      <td>2</td>\n",
       "      <td>NaN</td>\n",
       "      <td>NaN</td>\n",
       "    </tr>\n",
       "    <tr>\n",
       "      <th>2</th>\n",
       "      <td>593 Commercial Street</td>\n",
       "      <td>BARNSTABLE</td>\n",
       "      <td>0.022</td>\n",
       "      <td>Municipal</td>\n",
       "      <td>2</td>\n",
       "      <td>NaN</td>\n",
       "      <td>NaN</td>\n",
       "    </tr>\n",
       "    <tr>\n",
       "      <th>3</th>\n",
       "      <td>637 Commercial Street</td>\n",
       "      <td>BARNSTABLE</td>\n",
       "      <td>0.232</td>\n",
       "      <td>Municipal</td>\n",
       "      <td>2</td>\n",
       "      <td>NaN</td>\n",
       "      <td>NaN</td>\n",
       "    </tr>\n",
       "    <tr>\n",
       "      <th>4</th>\n",
       "      <td>Andrew Harding Lane Beach</td>\n",
       "      <td>BARNSTABLE</td>\n",
       "      <td>0.046</td>\n",
       "      <td>Municipal</td>\n",
       "      <td>1</td>\n",
       "      <td>permit</td>\n",
       "      <td>NaN</td>\n",
       "    </tr>\n",
       "  </tbody>\n",
       "</table>\n",
       "</div>"
      ],
      "text/plain": [
       "                  Beach Name      County  BeachLength (Mi) Ownership Type  \\\n",
       "0      333 Commercial Street  BARNSTABLE             0.085      Municipal   \n",
       "1      451 Commercial Street  BARNSTABLE             0.057      Municipal   \n",
       "2      593 Commercial Street  BARNSTABLE             0.022      Municipal   \n",
       "3      637 Commercial Street  BARNSTABLE             0.232      Municipal   \n",
       "4  Andrew Harding Lane Beach  BARNSTABLE             0.046      Municipal   \n",
       "\n",
       "  Accessibility Type Special Note Link Note  \n",
       "0                  2          NaN       NaN  \n",
       "1                  2          NaN       NaN  \n",
       "2                  2          NaN       NaN  \n",
       "3                  2          NaN       NaN  \n",
       "4                  1       permit       NaN  "
      ]
     },
     "execution_count": 2,
     "metadata": {},
     "output_type": "execute_result"
    }
   ],
   "source": [
    "import pandas as pd\n",
    "import numpy as np\n",
    "\n",
    "filename = \"Beach_Attributes.csv\"\n",
    "\n",
    "# Columns we are intrested in the dataset\n",
    "fields = ['Beach Name','County','BeachLength (Mi)','Ownership Type','Accessibility Type','Special Note','Link Note']\n",
    "\n",
    "# Reads in the csv as a dataframe\n",
    "df = pd.read_csv(filename, usecols = fields)\n",
    "\n",
    "df.head()"
   ]
  },
  {
   "cell_type": "code",
   "execution_count": 4,
   "metadata": {},
   "outputs": [
    {
     "data": {
      "text/plain": [
       "Accessibility Type\n",
       "0                 175\n",
       "1                 211\n",
       "2                  31\n",
       "No link             1\n",
       "page not found      1\n",
       "dtype: int64"
      ]
     },
     "execution_count": 4,
     "metadata": {},
     "output_type": "execute_result"
    }
   ],
   "source": [
    "df.groupby('Accessibility Type').size()"
   ]
  },
  {
   "cell_type": "code",
   "execution_count": 5,
   "metadata": {},
   "outputs": [
    {
     "data": {
      "text/plain": [
       "Special Note\n",
       "homeowners         1\n",
       "parking           70\n",
       "parking            2\n",
       "parking permit     1\n",
       "permit            81\n",
       "permit/parking    47\n",
       "reservation        7\n",
       "dtype: int64"
      ]
     },
     "execution_count": 5,
     "metadata": {},
     "output_type": "execute_result"
    }
   ],
   "source": [
    "df.groupby('Special Note').size()"
   ]
  },
  {
   "cell_type": "code",
   "execution_count": 14,
   "metadata": {},
   "outputs": [],
   "source": [
    "total_num_beaches = df.shape[0]\n",
    "permit_beaches = len(df[df['Special Note']=='permit'])\n",
    "parking_beaches = len(df[df['Special Note']=='parking']) + 3\n",
    "permit_parking_beaches = len(df[df['Special Note']=='permit/parking'])\n",
    "other = len(df[df['Special Note']=='reservation']) + len(df[df['Special Note']=='homeowners'])"
   ]
  },
  {
   "cell_type": "markdown",
   "metadata": {},
   "source": [
    "Note: the values for parking_beaches has been manually adjusted here because there is an inconsistency with the notation for beaches with parking limitations."
   ]
  },
  {
   "cell_type": "code",
   "execution_count": 15,
   "metadata": {},
   "outputs": [],
   "source": [
    "import matplotlib.pyplot as plt"
   ]
  },
  {
   "cell_type": "code",
   "execution_count": 16,
   "metadata": {},
   "outputs": [
    {
     "data": {
      "image/png": "[encoded data removed]",
      "text/plain": [
       "<Figure size 432x288 with 1 Axes>"
      ]
     },
     "metadata": {
      "needs_background": "light"
     },
     "output_type": "display_data"
    }
   ],
   "source": [
    "fig = plt.figure()\n",
    "ax = fig.add_axes([0,0,1,1])\n",
    "ax.bar(['Permit', 'Parking', 'Permit & Parking', 'Other'], [permit_beaches, parking_beaches, permit_parking_beaches, other], color = ['blue', 'yellow', 'green', 'red'])\n",
    "plt.title(\"MA Coastline Quasi-Public Beach Distribution\")\n",
    "plt.show()"
   ]
  },
  {
   "cell_type": "code",
   "execution_count": 18,
   "metadata": {},
   "outputs": [
    {
     "data": {
      "text/plain": [
       "<Figure size 432x288 with 0 Axes>"
      ]
     },
     "metadata": {},
     "output_type": "display_data"
    }
   ],
   "source": [
    "plt.savefig('quasi_pub.png')"
   ]
  },
  {
   "cell_type": "code",
   "execution_count": null,
   "metadata": {},
   "outputs": [],
   "source": []
  }
 ],
 "metadata": {
  "kernelspec": {
   "display_name": "Python 3",
   "language": "python",
   "name": "python3"
  },
  "language_info": {
   "codemirror_mode": {
    "name": "ipython",
    "version": 3
   },
   "file_extension": ".py",
   "mimetype": "text/x-python",
   "name": "python",
   "nbconvert_exporter": "python",
   "pygments_lexer": "ipython3",
   "version": "3.8.5"
  }
 },
 "nbformat": 4,
 "nbformat_minor": 4
}
